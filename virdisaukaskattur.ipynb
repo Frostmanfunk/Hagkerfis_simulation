{
 "cells": [
  {
   "cell_type": "code",
   "execution_count": 17,
   "metadata": {},
   "outputs": [],
   "source": [
    "class virdisaukaskattur_c:\n",
    "    \n",
    "    def __init__(self, vsk = 0.24, vsk_laegri = 0.11):\n",
    "        self.vsk = vsk\n",
    "        self.vsk_laegri = vsk_laegri\n",
    "    \n",
    "    def flokkar_f(self):\n",
    "        self.vorur = None\n",
    "        self.verdmaeti = None\n",
    "        self.vinna = None\n",
    "        self.þjonusta = None"
   ]
  },
  {
   "cell_type": "code",
   "execution_count": 27,
   "metadata": {},
   "outputs": [
    {
     "name": "stdout",
     "output_type": "stream",
     "text": [
      "240.0\n",
      "110.0\n"
     ]
    }
   ],
   "source": [
    "fjoldi = 100\n",
    "medal_kostnadur = 1000\n",
    "\n",
    "vsk = virdisaukaskattur_c()\n",
    "print(vsk.vsk*medal_kostnadur)\n",
    "print(vsk.vsk_laegri*medal_kostnadur)"
   ]
  }
 ],
 "metadata": {
  "kernelspec": {
   "display_name": "Python 3",
   "language": "python",
   "name": "python3"
  },
  "language_info": {
   "codemirror_mode": {
    "name": "ipython",
    "version": 3
   },
   "file_extension": ".py",
   "mimetype": "text/x-python",
   "name": "python",
   "nbconvert_exporter": "python",
   "pygments_lexer": "ipython3",
   "version": "3.8.3"
  }
 },
 "nbformat": 4,
 "nbformat_minor": 4
}
